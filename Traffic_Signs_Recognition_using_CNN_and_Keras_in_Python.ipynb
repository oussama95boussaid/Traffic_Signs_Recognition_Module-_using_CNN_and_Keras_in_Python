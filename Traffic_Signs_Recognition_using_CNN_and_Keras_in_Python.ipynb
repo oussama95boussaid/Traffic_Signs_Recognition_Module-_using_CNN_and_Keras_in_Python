{
  "nbformat": 4,
  "nbformat_minor": 0,
  "metadata": {
    "colab": {
      "name": "Traffic_Signs_Recognition_using_CNN_and_Keras_in_Python.ipynb",
      "provenance": [],
      "collapsed_sections": []
    },
    "kernelspec": {
      "name": "python3",
      "display_name": "Python 3"
    },
    "language_info": {
      "name": "python"
    },
    "gpuClass": "standard"
  },
  "cells": [
    {
      "cell_type": "markdown",
      "source": [
        "# **CNN model building**\n",
        "I builded a multi-layer **feedforward** neural network to classify traffic sign images using Keras "
      ],
      "metadata": {
        "id": "Cf7MvF-nSQQb"
      }
    },
    {
      "cell_type": "code",
      "source": [
        "from keras.models import Sequential\n",
        "from keras.layers import Conv2D, MaxPool2D, Dense, Activation, Flatten"
      ],
      "metadata": {
        "id": "IipzhVG1wUT1"
      },
      "execution_count": null,
      "outputs": []
    },
    {
      "cell_type": "code",
      "execution_count": null,
      "metadata": {
        "id": "5w9AxLvjucEQ"
      },
      "outputs": [],
      "source": [
        "# Create the Sequential model\n",
        "model = Sequential()\n",
        "\n",
        "#convolutional layer with 32 filters, a 3x3 kernel, and valid padding .\n",
        "model.add(Conv2D(filters=32, kernel_size=(3,3), input_shape=(32, 32, 3),padding='VALID'))\n",
        "\n",
        "#ReLU activation layer\n",
        "model.add(Activation('relu'))\n",
        "\n",
        "#2x2 max pooling layer\n",
        "model.add(MaxPool2D(pool_size=(2, 2)))\n",
        "\n",
        "#dropout layer with a rate of 50%\n",
        "model.add(Dropout(rate=0.5))\n",
        "\n",
        "#flatten layer with the input_shape set to (32, 32, 3)\n",
        "model.add(Flatten(input_shape=(32, 32, 3)))\n",
        "\n",
        "#fully connected layer with an output width of 128\n",
        "model.add(Dense(128))\n",
        "\n",
        "#ReLU activation function\n",
        "model.add(Activation('relu'))\n",
        "\n",
        "#fully connected layer with an output width of 5 \n",
        "'''\n",
        "because for this data set there are only 5 classes.\n",
        "\n",
        "'''\n",
        "model.add(Dense(5))\n",
        "\n",
        "#softmax activation function\n",
        "model.add(Activation('softmax'))"
      ]
    }
  ]
}